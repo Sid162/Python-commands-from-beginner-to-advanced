{
 "cells": [
  {
   "cell_type": "code",
   "execution_count": 1,
   "id": "9d814f8f",
   "metadata": {},
   "outputs": [],
   "source": [
    "rent =1400\n",
    "tax = \"rent\""
   ]
  },
  {
   "cell_type": "code",
   "execution_count": 2,
   "id": "0203c40b",
   "metadata": {},
   "outputs": [
    {
     "name": "stdout",
     "output_type": "stream",
     "text": [
      "rent\n"
     ]
    }
   ],
   "source": [
    "print(tax)"
   ]
  },
  {
   "cell_type": "code",
   "execution_count": 3,
   "id": "0c482c7c",
   "metadata": {},
   "outputs": [
    {
     "name": "stdout",
     "output_type": "stream",
     "text": [
      "Tax is: 1400\n"
     ]
    }
   ],
   "source": [
    "print(\"Tax is:\", rent)"
   ]
  },
  {
   "cell_type": "code",
   "execution_count": 4,
   "id": "633d061b",
   "metadata": {},
   "outputs": [
    {
     "data": {
      "text/plain": [
       "9"
      ]
     },
     "execution_count": 4,
     "metadata": {},
     "output_type": "execute_result"
    }
   ],
   "source": [
    "3**2"
   ]
  },
  {
   "cell_type": "code",
   "execution_count": 5,
   "id": "ce43bde0",
   "metadata": {},
   "outputs": [
    {
     "data": {
      "text/plain": [
       "6.93"
      ]
     },
     "execution_count": 5,
     "metadata": {},
     "output_type": "execute_result"
    }
   ],
   "source": [
    "time = 6.934244\n",
    "round(time, 2)"
   ]
  },
  {
   "cell_type": "code",
   "execution_count": 6,
   "id": "ccad5361",
   "metadata": {},
   "outputs": [
    {
     "data": {
      "text/plain": [
       "0.2999999999999998"
      ]
     },
     "execution_count": 6,
     "metadata": {},
     "output_type": "execute_result"
    }
   ],
   "source": [
    "6-5.7\n",
    "# Numbers are stored in binary format and floating way number is stored they loose accuracy"
   ]
  },
  {
   "cell_type": "code",
   "execution_count": 7,
   "id": "e9570bbf",
   "metadata": {},
   "outputs": [
    {
     "data": {
      "text/plain": [
       "0.3"
      ]
     },
     "execution_count": 7,
     "metadata": {},
     "output_type": "execute_result"
    }
   ],
   "source": [
    "round(6-5.7, 2)"
   ]
  },
  {
   "cell_type": "code",
   "execution_count": 8,
   "id": "b4f1b1ea",
   "metadata": {},
   "outputs": [],
   "source": [
    "text = \"ice cream\""
   ]
  },
  {
   "cell_type": "code",
   "execution_count": 9,
   "id": "7e119857",
   "metadata": {
    "scrolled": false
   },
   "outputs": [
    {
     "data": {
      "text/plain": [
       "'ice cream'"
      ]
     },
     "execution_count": 9,
     "metadata": {},
     "output_type": "execute_result"
    }
   ],
   "source": [
    "# Strings are immutabale in python\n",
    "text[:9]"
   ]
  },
  {
   "cell_type": "code",
   "execution_count": 10,
   "id": "31cb011d",
   "metadata": {},
   "outputs": [
    {
     "data": {
      "text/plain": [
       "'My number is 25'"
      ]
     },
     "execution_count": 10,
     "metadata": {},
     "output_type": "execute_result"
    }
   ],
   "source": [
    "s = 'My number is'\n",
    "num = ' 25'\n",
    "s+num"
   ]
  },
  {
   "cell_type": "code",
   "execution_count": 11,
   "id": "577b4f78",
   "metadata": {},
   "outputs": [
    {
     "data": {
      "text/plain": [
       "['item1', 'item2', 'item3']"
      ]
     },
     "execution_count": 11,
     "metadata": {},
     "output_type": "execute_result"
    }
   ],
   "source": [
    "lr = ['item1', 'item2', 'item3']\n",
    "lr"
   ]
  },
  {
   "cell_type": "code",
   "execution_count": 12,
   "id": "61cb5abd",
   "metadata": {},
   "outputs": [
    {
     "data": {
      "text/plain": [
       "'item1'"
      ]
     },
     "execution_count": 12,
     "metadata": {},
     "output_type": "execute_result"
    }
   ],
   "source": [
    "lr[0]"
   ]
  },
  {
   "cell_type": "code",
   "execution_count": 13,
   "id": "9f0b7257",
   "metadata": {},
   "outputs": [
    {
     "data": {
      "text/plain": [
       "['item1', 'item2', 'item3', 'item4']"
      ]
     },
     "execution_count": 13,
     "metadata": {},
     "output_type": "execute_result"
    }
   ],
   "source": [
    "lr.append(\"item4\")\n",
    "lr"
   ]
  },
  {
   "cell_type": "code",
   "execution_count": 14,
   "id": "bc697785",
   "metadata": {},
   "outputs": [
    {
     "data": {
      "text/plain": [
       "['item1', 'item5', 'item2', 'item3', 'item4']"
      ]
     },
     "execution_count": 14,
     "metadata": {},
     "output_type": "execute_result"
    }
   ],
   "source": [
    "lr.insert(1, 'item5')\n",
    "lr"
   ]
  },
  {
   "cell_type": "code",
   "execution_count": 15,
   "id": "798ba80e",
   "metadata": {},
   "outputs": [
    {
     "data": {
      "text/plain": [
       "False"
      ]
     },
     "execution_count": 15,
     "metadata": {},
     "output_type": "execute_result"
    }
   ],
   "source": [
    "\"item6\" in lr"
   ]
  },
  {
   "cell_type": "code",
   "execution_count": 16,
   "id": "365b3dc2",
   "metadata": {},
   "outputs": [
    {
     "name": "stdout",
     "output_type": "stream",
     "text": [
      "Enter the number:12\n"
     ]
    }
   ],
   "source": [
    "num = input(\"Enter the number:\")"
   ]
  },
  {
   "cell_type": "code",
   "execution_count": 17,
   "id": "9f47e942",
   "metadata": {},
   "outputs": [],
   "source": [
    "num = int(num)"
   ]
  },
  {
   "cell_type": "code",
   "execution_count": 18,
   "id": "b6c42903",
   "metadata": {},
   "outputs": [
    {
     "name": "stdout",
     "output_type": "stream",
     "text": [
      "Even number\n"
     ]
    }
   ],
   "source": [
    "if num%2 == 0:\n",
    "    print(\"Even number\")\n",
    "else:\n",
    "    print(\"Odd number\")"
   ]
  },
  {
   "cell_type": "code",
   "execution_count": 19,
   "id": "5c4d0b25",
   "metadata": {},
   "outputs": [
    {
     "name": "stdout",
     "output_type": "stream",
     "text": [
      "Enter the dish: daal\n",
      "indian\n"
     ]
    }
   ],
   "source": [
    "indian = [\"samosa\", \"daal\", \"naan\"]\n",
    "chinese = [\"pot sticker\", \"egg roll\", \"fried rice\"]\n",
    "italian = [\"pizza\", \"pasta\", \"risotto\"]\n",
    "\n",
    "\n",
    "dish = input(\"Enter the dish: \")\n",
    "str(dish)\n",
    "\n",
    "if dish in indian:\n",
    "    print(\"indian\")\n",
    "elif dish in chinese:\n",
    "    print(\"chinese\")\n",
    "elif dish in italian:\n",
    "    print(\"italian\")\n",
    "else:\n",
    "    print(\"Don't know \")"
   ]
  },
  {
   "cell_type": "code",
   "execution_count": 20,
   "id": "040a6c31",
   "metadata": {},
   "outputs": [
    {
     "name": "stdout",
     "output_type": "stream",
     "text": [
      "13020\n"
     ]
    }
   ],
   "source": [
    "exp = [2340, 2500, 2100, 3100, 2980]\n",
    "total = exp[0] + exp[1] + exp[2] + exp[3] + exp[4]\n",
    "print(total)"
   ]
  },
  {
   "cell_type": "code",
   "execution_count": 21,
   "id": "0e77521f",
   "metadata": {},
   "outputs": [
    {
     "name": "stdout",
     "output_type": "stream",
     "text": [
      "13020\n"
     ]
    }
   ],
   "source": [
    "i = 0\n",
    "val = 0\n",
    "\n",
    "for i in exp:\n",
    "    val = val + i\n",
    "print(val)"
   ]
  },
  {
   "cell_type": "code",
   "execution_count": 22,
   "id": "2f266f8f",
   "metadata": {},
   "outputs": [
    {
     "name": "stdout",
     "output_type": "stream",
     "text": [
      "1\n",
      "4\n",
      "9\n",
      "16\n",
      "25\n",
      "36\n",
      "49\n",
      "64\n",
      "81\n",
      "100\n"
     ]
    }
   ],
   "source": [
    "for i in range(1, 11):\n",
    "    print(i*i)"
   ]
  },
  {
   "cell_type": "code",
   "execution_count": 23,
   "id": "dfc9e4c6",
   "metadata": {},
   "outputs": [
    {
     "name": "stdout",
     "output_type": "stream",
     "text": [
      "Month: 1 Expense: 2340\n",
      "Month: 2 Expense: 2500\n",
      "Month: 3 Expense: 2100\n",
      "Month: 4 Expense: 3100\n",
      "Month: 5 Expense: 2980\n"
     ]
    }
   ],
   "source": [
    "for i in range(len(exp)):\n",
    "    print('Month:', (i+1), 'Expense:', exp[i])"
   ]
  },
  {
   "cell_type": "code",
   "execution_count": 24,
   "id": "fb44c8a0",
   "metadata": {},
   "outputs": [
    {
     "name": "stdout",
     "output_type": "stream",
     "text": [
      "Key is not found in: garage\n",
      "Key is not found in: living room\n",
      "Key is not found in: closet\n",
      "Key is found in:  chair\n"
     ]
    }
   ],
   "source": [
    "key_location =\"chair\"\n",
    "locations = [\"garage\", \"living room\", \"closet\", \"chair\"]\n",
    "for i in locations:\n",
    "    if i == key_location:\n",
    "        print(\"Key is found in: \", i)\n",
    "        continue\n",
    "    else:\n",
    "        print(\"Key is not found in:\", i)"
   ]
  },
  {
   "cell_type": "code",
   "execution_count": 25,
   "id": "7f74ba31",
   "metadata": {},
   "outputs": [
    {
     "name": "stdout",
     "output_type": "stream",
     "text": [
      "1\n",
      "9\n",
      "25\n"
     ]
    }
   ],
   "source": [
    "for i in range(1,6):\n",
    "    if i%2 == 0:\n",
    "        continue\n",
    "    print(i*i)"
   ]
  },
  {
   "cell_type": "code",
   "execution_count": 26,
   "id": "772b6bcd",
   "metadata": {},
   "outputs": [
    {
     "name": "stdout",
     "output_type": "stream",
     "text": [
      "1\n",
      "2\n",
      "3\n",
      "4\n",
      "5\n"
     ]
    }
   ],
   "source": [
    "i = 1\n",
    "while i <=5:\n",
    "    print(i)\n",
    "    i = i+1"
   ]
  },
  {
   "cell_type": "code",
   "execution_count": 27,
   "id": "90e9a059",
   "metadata": {},
   "outputs": [
    {
     "name": "stdout",
     "output_type": "stream",
     "text": [
      "Total expense of lr is 6600\n"
     ]
    }
   ],
   "source": [
    "lr = [2100, 2200, 2300]\n",
    "lr1 = [200, 300, 400]\n",
    "\n",
    "total = 0\n",
    "\n",
    "for item in lr:\n",
    "    total = total + item\n",
    "print(\"Total expense of lr is\", total)"
   ]
  },
  {
   "cell_type": "code",
   "execution_count": 28,
   "id": "5083592c",
   "metadata": {},
   "outputs": [
    {
     "name": "stdout",
     "output_type": "stream",
     "text": [
      "6600\n",
      "900\n"
     ]
    }
   ],
   "source": [
    "def calculate(exp):\n",
    "    total = 0\n",
    "    for item in exp:\n",
    "        total = total + item\n",
    "    return total\n",
    "\n",
    "tom_total = calculate(lr)\n",
    "joe_total = calculate(lr1)\n",
    "\n",
    "print(tom_total)\n",
    "print(joe_total)"
   ]
  },
  {
   "cell_type": "code",
   "execution_count": 29,
   "id": "d461e091",
   "metadata": {},
   "outputs": [],
   "source": [
    "def sub(exp):\n",
    "    total = 0\n",
    "    for item in exp:\n",
    "        total = item - total\n",
    "    return total"
   ]
  },
  {
   "cell_type": "code",
   "execution_count": 30,
   "id": "3c54f1cb",
   "metadata": {},
   "outputs": [
    {
     "data": {
      "text/plain": [
       "2200"
      ]
     },
     "execution_count": 30,
     "metadata": {},
     "output_type": "execute_result"
    }
   ],
   "source": [
    "lr1 = sub(lr)\n",
    "lr1"
   ]
  },
  {
   "cell_type": "code",
   "execution_count": 31,
   "id": "1b0559b6",
   "metadata": {},
   "outputs": [
    {
     "name": "stdout",
     "output_type": "stream",
     "text": [
      "3\n"
     ]
    },
    {
     "data": {
      "text/plain": [
       "11"
      ]
     },
     "execution_count": 31,
     "metadata": {},
     "output_type": "execute_result"
    }
   ],
   "source": [
    "def sum(a,b):\n",
    "    total = a + b\n",
    "    return total\n",
    "\n",
    "ab = sum(1,2)\n",
    "an = sum(b =6, a =5)\n",
    "print(ab)\n",
    "an"
   ]
  },
  {
   "cell_type": "code",
   "execution_count": 32,
   "id": "bf0219d5",
   "metadata": {},
   "outputs": [
    {
     "data": {
      "text/plain": [
       "{'Tom': 1234567890, 'Rob': 2345678901, 'Jack': 1234512345}"
      ]
     },
     "execution_count": 32,
     "metadata": {},
     "output_type": "execute_result"
    }
   ],
   "source": [
    "d = {\"Tom\": 1234567890, \"Rob\": 2345678901, \"Jack\": 1234512345}\n",
    "d"
   ]
  },
  {
   "cell_type": "code",
   "execution_count": 33,
   "id": "a7410535",
   "metadata": {},
   "outputs": [
    {
     "data": {
      "text/plain": [
       "1234567890"
      ]
     },
     "execution_count": 33,
     "metadata": {},
     "output_type": "execute_result"
    }
   ],
   "source": [
    "d[\"Tom\"]"
   ]
  },
  {
   "cell_type": "code",
   "execution_count": 34,
   "id": "04e2be18",
   "metadata": {},
   "outputs": [
    {
     "data": {
      "text/plain": [
       "{'Tom': 1234567890, 'Rob': 2345678901, 'Jack': 1234512345, 'Sam': 1231231231}"
      ]
     },
     "execution_count": 34,
     "metadata": {},
     "output_type": "execute_result"
    }
   ],
   "source": [
    "d[\"Sam\"] = 1231231231\n",
    "d"
   ]
  },
  {
   "cell_type": "code",
   "execution_count": 35,
   "id": "16696007",
   "metadata": {},
   "outputs": [
    {
     "data": {
      "text/plain": [
       "{'Tom': 1234567890, 'Rob': 2345678901, 'Jack': 1234512345}"
      ]
     },
     "execution_count": 35,
     "metadata": {},
     "output_type": "execute_result"
    }
   ],
   "source": [
    "del d[\"Sam\"]\n",
    "d"
   ]
  },
  {
   "cell_type": "code",
   "execution_count": 36,
   "id": "44f0fc1e",
   "metadata": {},
   "outputs": [
    {
     "name": "stdout",
     "output_type": "stream",
     "text": [
      "Key: Tom Value: 1234567890\n",
      "Key: Rob Value: 2345678901\n",
      "Key: Jack Value: 1234512345\n"
     ]
    }
   ],
   "source": [
    "for key in d:\n",
    "    print(\"Key:\", key, \"Value:\", d[key])"
   ]
  },
  {
   "cell_type": "code",
   "execution_count": 37,
   "id": "e762ace7",
   "metadata": {},
   "outputs": [
    {
     "name": "stdout",
     "output_type": "stream",
     "text": [
      "Key: Jack Value: 1234512345\n",
      "Key: Jack Value: 1234512345\n",
      "Key: Jack Value: 1234512345\n"
     ]
    }
   ],
   "source": [
    "for k,v in d.items():\n",
    "    print(\"Key:\", key, \"Value:\", d[key])"
   ]
  },
  {
   "cell_type": "code",
   "execution_count": 38,
   "id": "88690109",
   "metadata": {},
   "outputs": [
    {
     "data": {
      "text/plain": [
       "{'First Name': 'Siddharth', 'Last Name': 'Ranjan'}"
      ]
     },
     "execution_count": 38,
     "metadata": {},
     "output_type": "execute_result"
    }
   ],
   "source": [
    "f = {\"First Name\": \"Siddharth\", \"Last Name\": \"Ranjan\"}\n",
    "f"
   ]
  },
  {
   "cell_type": "code",
   "execution_count": 39,
   "id": "dc562267",
   "metadata": {},
   "outputs": [
    {
     "name": "stdout",
     "output_type": "stream",
     "text": [
      "First Name :- Siddharth\n",
      "Last Name :- Ranjan\n"
     ]
    }
   ],
   "source": [
    "for k,v in f.items():\n",
    "    print(k,\":-\", v)"
   ]
  },
  {
   "cell_type": "code",
   "execution_count": 40,
   "id": "cfc36cef",
   "metadata": {},
   "outputs": [
    {
     "data": {
      "text/plain": [
       "False"
      ]
     },
     "execution_count": 40,
     "metadata": {},
     "output_type": "execute_result"
    }
   ],
   "source": [
    "\"tom\" in d"
   ]
  },
  {
   "cell_type": "code",
   "execution_count": 41,
   "id": "faa5d91a",
   "metadata": {},
   "outputs": [
    {
     "data": {
      "text/plain": [
       "{'Tom': 1234567890, 'Rob': 2345678901, 'Jack': 1234512345}"
      ]
     },
     "execution_count": 41,
     "metadata": {},
     "output_type": "execute_result"
    }
   ],
   "source": [
    "d"
   ]
  },
  {
   "cell_type": "code",
   "execution_count": 42,
   "id": "32cf27a1",
   "metadata": {},
   "outputs": [
    {
     "data": {
      "text/plain": [
       "True"
      ]
     },
     "execution_count": 42,
     "metadata": {},
     "output_type": "execute_result"
    }
   ],
   "source": [
    "\"Tom\" in d"
   ]
  },
  {
   "cell_type": "code",
   "execution_count": 43,
   "id": "e36e8bf6",
   "metadata": {},
   "outputs": [
    {
     "data": {
      "text/plain": [
       "{}"
      ]
     },
     "execution_count": 43,
     "metadata": {},
     "output_type": "execute_result"
    }
   ],
   "source": [
    "d.clear()\n",
    "d"
   ]
  },
  {
   "cell_type": "code",
   "execution_count": 44,
   "id": "2dc18130",
   "metadata": {},
   "outputs": [
    {
     "data": {
      "text/plain": [
       "(5, 6)"
      ]
     },
     "execution_count": 44,
     "metadata": {},
     "output_type": "execute_result"
    }
   ],
   "source": [
    "d = (5,6)\n",
    "d"
   ]
  },
  {
   "cell_type": "code",
   "execution_count": 45,
   "id": "2e82c909",
   "metadata": {},
   "outputs": [
    {
     "data": {
      "text/plain": [
       "5"
      ]
     },
     "execution_count": 45,
     "metadata": {},
     "output_type": "execute_result"
    }
   ],
   "source": [
    "d[0]"
   ]
  },
  {
   "cell_type": "code",
   "execution_count": 46,
   "id": "0c52fd23",
   "metadata": {},
   "outputs": [
    {
     "name": "stdout",
     "output_type": "stream",
     "text": [
      "    January 2023\n",
      "Mo Tu We Th Fr Sa Su\n",
      "                   1\n",
      " 2  3  4  5  6  7  8\n",
      " 9 10 11 12 13 14 15\n",
      "16 17 18 19 20 21 22\n",
      "23 24 25 26 27 28 29\n",
      "30 31\n",
      "\n"
     ]
    }
   ],
   "source": [
    "import calendar\n",
    "cal = calendar.month(2023, 1)\n",
    "print(cal)"
   ]
  },
  {
   "cell_type": "code",
   "execution_count": 47,
   "id": "5fefec7e",
   "metadata": {},
   "outputs": [
    {
     "data": {
      "text/plain": [
       "True"
      ]
     },
     "execution_count": 47,
     "metadata": {},
     "output_type": "execute_result"
    }
   ],
   "source": [
    "calendar.isleap(2016)"
   ]
  },
  {
   "cell_type": "code",
   "execution_count": 48,
   "id": "55c4af13",
   "metadata": {},
   "outputs": [
    {
     "name": "stdout",
     "output_type": "stream",
     "text": [
      "{\"Tom\": {\"name\": \"Siddharth\", \"address\": \"Shivaji Nagar\", \"phone\": 2323232323}, \"bob\": {\"name\": \"Sid\", \"address\": \"Shivaji\", \"phone\": 1234512345}}\n"
     ]
    }
   ],
   "source": [
    "book = {}\n",
    "book[\"Tom\"] = {\n",
    "    'name': 'Siddharth',\n",
    "    'address': 'Shivaji Nagar',\n",
    "    'phone': 2323232323\n",
    "}\n",
    "\n",
    "book['bob'] = {\n",
    "    \n",
    "    'name': 'Sid',\n",
    "    'address': 'Shivaji',\n",
    "    'phone': 1234512345\n",
    "}\n",
    "\n",
    "import json\n",
    "s = json.dumps(book)\n",
    "print(s)"
   ]
  },
  {
   "cell_type": "code",
   "execution_count": 49,
   "id": "98b38d3d",
   "metadata": {},
   "outputs": [
    {
     "name": "stdout",
     "output_type": "stream",
     "text": [
      "{\"Tom\": {\"name\": \"Siddharth\", \"address\": \"Shivaji Nagar\", \"phone\": 2323232323}, \"bob\": {\"name\": \"Sid\", \"address\": \"Shivaji\", \"phone\": 1234512345}}\n"
     ]
    }
   ],
   "source": [
    "import os\n",
    "\n",
    "directory = \"c://data//\"\n",
    "\n",
    "if not os.path.exists(directory):\n",
    "    os.makedirs(directory)\n",
    "\n",
    "book = {}\n",
    "book[\"Tom\"] = {\n",
    "    'name': 'Siddharth',\n",
    "    'address': 'Shivaji Nagar',\n",
    "    'phone': 2323232323\n",
    "}\n",
    "\n",
    "book['bob'] = {\n",
    "    \n",
    "    'name': 'Sid',\n",
    "    'address': 'Shivaji',\n",
    "    'phone': 1234512345\n",
    "}\n",
    "\n",
    "import json\n",
    "s = json.dumps(book)\n",
    "print(s)\n",
    "\n",
    "with open(\"c://data//book.txt\", \"w+\") as f:\n",
    "    f.write(s)"
   ]
  },
  {
   "cell_type": "code",
   "execution_count": 50,
   "id": "9e40a502",
   "metadata": {},
   "outputs": [
    {
     "name": "stdout",
     "output_type": "stream",
     "text": [
      "{\"Tom\": {\"name\": \"Siddharth\", \"address\": \"Shivaji Nagar\", \"phone\": 2323232323}, \"bob\": {\"name\": \"Sid\", \"address\": \"Shivaji\", \"phone\": 1234512345}}\n"
     ]
    }
   ],
   "source": [
    "f = open(\"c://data//book.txt\", \"r\")\n",
    "s = f.read()\n",
    "print(s)"
   ]
  },
  {
   "cell_type": "code",
   "execution_count": 51,
   "id": "b87f2012",
   "metadata": {},
   "outputs": [
    {
     "data": {
      "text/plain": [
       "{'Tom': {'name': 'Siddharth', 'address': 'Shivaji Nagar', 'phone': 2323232323},\n",
       " 'bob': {'name': 'Sid', 'address': 'Shivaji', 'phone': 1234512345}}"
      ]
     },
     "execution_count": 51,
     "metadata": {},
     "output_type": "execute_result"
    }
   ],
   "source": [
    "book = json.loads(s)\n",
    "book"
   ]
  },
  {
   "cell_type": "code",
   "execution_count": 52,
   "id": "9e22b0bd",
   "metadata": {},
   "outputs": [
    {
     "data": {
      "text/plain": [
       "'Shivaji'"
      ]
     },
     "execution_count": 52,
     "metadata": {},
     "output_type": "execute_result"
    }
   ],
   "source": [
    "book[\"bob\"][\"address\"]"
   ]
  },
  {
   "cell_type": "code",
   "execution_count": 53,
   "id": "9d3325bb",
   "metadata": {},
   "outputs": [],
   "source": [
    "import os\n",
    "\n",
    "directory = \"c://data//\"\n",
    "\n",
    "if not os.path.exists(directory):\n",
    "    os.makedirs(directory)\n",
    "\n",
    "with open(\"c://data//funny.txt\", \"w+\") as f:\n",
    "    f.write(\"I love Python\")\n",
    "    f.close()"
   ]
  },
  {
   "cell_type": "code",
   "execution_count": 54,
   "id": "a24a965d",
   "metadata": {},
   "outputs": [
    {
     "name": "stdout",
     "output_type": "stream",
     "text": [
      "3\n"
     ]
    }
   ],
   "source": [
    "f = open(\"c://data//funny.txt\", \"r\")\n",
    "# print(f.read())\n",
    "# f.close()\n",
    "\n",
    "for line in f:\n",
    "    tokens = line.split(\" \")\n",
    "    print(len(tokens))\n",
    "    \n",
    "f.close()"
   ]
  },
  {
   "cell_type": "code",
   "execution_count": 55,
   "id": "3907e92b",
   "metadata": {},
   "outputs": [
    {
     "name": "stdout",
     "output_type": "stream",
     "text": [
      "Enter Number 1:2\n",
      "Enter Number 2:1\n",
      "Division is: 2.0\n"
     ]
    }
   ],
   "source": [
    "x = input(\"Enter Number 1:\")\n",
    "y = input(\"Enter Number 2:\")\n",
    "\n",
    "try:\n",
    "    z = int(x)/int(y)\n",
    "except Exception as e:\n",
    "    print(\"Exception occurred as:\",e )\n",
    "    z = None\n",
    "print(\"Division is:\", z)"
   ]
  },
  {
   "cell_type": "code",
   "execution_count": 56,
   "id": "b8e64ac1",
   "metadata": {},
   "outputs": [
    {
     "name": "stdout",
     "output_type": "stream",
     "text": [
      "Enter Number 1:4\n",
      "Enter Number 2:0\n",
      "Division by zero exception:\n",
      "Division is: None\n"
     ]
    }
   ],
   "source": [
    "x = input(\"Enter Number 1:\")\n",
    "y = input(\"Enter Number 2:\")\n",
    "\n",
    "try:\n",
    "    z = int(x)/int(y)\n",
    "except ZeroDivisionError as e:\n",
    "    print(\"Division by zero exception:\")\n",
    "    z = None\n",
    "except TypeError as e:\n",
    "    print('TypeError Exception', type(e).__name__)\n",
    "    z = None\n",
    "print(\"Division is:\", z)"
   ]
  },
  {
   "cell_type": "code",
   "execution_count": 57,
   "id": "746ebec2",
   "metadata": {},
   "outputs": [
    {
     "name": "stdout",
     "output_type": "stream",
     "text": [
      "Tom Cruise shooting\n",
      "Tom Cruise Says how are you?\n"
     ]
    }
   ],
   "source": [
    "class Human:\n",
    "    def __init__(self,n,o):\n",
    "        self.name = n\n",
    "        self.occupation = o\n",
    "        \n",
    "    def do_work(self):\n",
    "        if self.occupation == \"tennis player\":\n",
    "            print(self.name, \"play tennis\")\n",
    "        elif self.occupation == \"actor\":\n",
    "            print(self.name, \"shooting\")\n",
    "            \n",
    "    def speaks(self):\n",
    "        print(self.name, \"Says how are you?\")\n",
    "        \n",
    "tom = Human(\"Tom Cruise\", \"actor\")\n",
    "tom.do_work()\n",
    "tom.speaks()"
   ]
  },
  {
   "cell_type": "code",
   "execution_count": 58,
   "id": "ec92a864",
   "metadata": {},
   "outputs": [
    {
     "name": "stdout",
     "output_type": "stream",
     "text": [
      "Tom Cruise acting\n",
      "Tom Cruise How are you\n",
      "Maria Sharapova plays tennis\n",
      "Maria Sharapova How are you\n"
     ]
    }
   ],
   "source": [
    "class Human:\n",
    "    def __init__(self,n,o):\n",
    "        self.name = n\n",
    "        self.occupation = o\n",
    "        \n",
    "    def do_work(self):\n",
    "        if self.occupation == \"tennis player\":\n",
    "            print(self.name, \"plays tennis\")\n",
    "        elif self.occupation == \"actor\":\n",
    "            print(self.name, \"acting\")\n",
    "    \n",
    "    def speaks(self):\n",
    "        print(self.name, \"How are you\")\n",
    "        \n",
    "tom = Human(\"Tom Cruise\", \"actor\")\n",
    "tom.do_work()\n",
    "tom.speaks()\n",
    "\n",
    "maria = Human(\"Maria Sharapova\", \"tennis player\")\n",
    "maria.do_work()\n",
    "maria.speaks()"
   ]
  },
  {
   "cell_type": "code",
   "execution_count": 59,
   "id": "512e35cf",
   "metadata": {},
   "outputs": [
    {
     "name": "stdout",
     "output_type": "stream",
     "text": [
      "I am a car\n",
      "general use: transportation\n"
     ]
    }
   ],
   "source": [
    "class vehicle:\n",
    "    def general_usage(self):\n",
    "        print(\"general use: transportation\")\n",
    "        \n",
    "class car(vehicle):\n",
    "    def __init__(self):\n",
    "        print(\"I am a car\")\n",
    "        self.wheels = 4\n",
    "        self.has_roof = True\n",
    "        \n",
    "    def specific_usage(self):\n",
    "        print(\"Specific use: commute to work, vacation with family\")\n",
    "        \n",
    "class Motorcycle(vehicle):\n",
    "    def __init__(self):\n",
    "        print(\"I am motorcycle\")\n",
    "        self.wheels = 4\n",
    "        self.has_roof = True\n",
    "        \n",
    "    def specific_usage(self):\n",
    "        print(\"specific use: road trip, racing\")\n",
    "        \n",
    "        \n",
    "c = car()\n",
    "c.general_usage()"
   ]
  },
  {
   "cell_type": "code",
   "execution_count": 60,
   "id": "637f0cfe",
   "metadata": {},
   "outputs": [
    {
     "name": "stdout",
     "output_type": "stream",
     "text": [
      "I am a car\n",
      "I am motor cycle\n"
     ]
    },
    {
     "data": {
      "text/plain": [
       "False"
      ]
     },
     "execution_count": 60,
     "metadata": {},
     "output_type": "execute_result"
    }
   ],
   "source": [
    "class vechile:\n",
    "    def general_usage(self):\n",
    "        print(\"General Use: Transportation\")\n",
    "        \n",
    "class car(vechile):\n",
    "    def __init__(self):\n",
    "        print(\"I am a car\")\n",
    "        self.wheels = 4\n",
    "        self.has_roof = True\n",
    "        \n",
    "    def specific_usage(self):\n",
    "        print(\"Specific use: commute to work, vacation with family\")\n",
    "        \n",
    "class Motorcycle(vechile):\n",
    "    def __init__(self):\n",
    "        print(\"I am motor cycle\")\n",
    "        self.wheels = 4\n",
    "        self.has_roof = True\n",
    "        \n",
    "    def specific_usage(self):\n",
    "        print(\"specific use: road trip, racing\")\n",
    " \n",
    "c = car()\n",
    "m = Motorcycle()\n",
    "\n",
    "issubclass(car,Motorcycle)"
   ]
  },
  {
   "cell_type": "code",
   "execution_count": 61,
   "id": "cb33b51d",
   "metadata": {},
   "outputs": [
    {
     "name": "stdout",
     "output_type": "stream",
     "text": [
      "I love gardening\n",
      "I love cooking\n",
      "I enjoy sports\n"
     ]
    }
   ],
   "source": [
    "class Father():\n",
    "    def gardening(self):\n",
    "        print(\"I love gardening\")\n",
    "        \n",
    "class Mother():\n",
    "    def cooking(self):\n",
    "        print(\"I love cooking\")\n",
    "        \n",
    "class child(Father, Mother):\n",
    "    def sports(self):\n",
    "        print(\"I enjoy sports\")\n",
    "        \n",
    "c = child()\n",
    "c.gardening()\n",
    "c.cooking()\n",
    "c.sports()"
   ]
  },
  {
   "cell_type": "code",
   "execution_count": 62,
   "id": "919ac121",
   "metadata": {},
   "outputs": [
    {
     "name": "stdout",
     "output_type": "stream",
     "text": [
      "User defined exception:  car crash\n"
     ]
    }
   ],
   "source": [
    "class Accident(Exception):\n",
    "    def __init__(self,msg):\n",
    "        self.msg = msg\n",
    "    def print_exception(self):\n",
    "        print(\"User defined exception: \", self.msg)\n",
    "        \n",
    "try:\n",
    "    raise Accident('car crash')    \n",
    "except Accident as e:\n",
    "    e.print_exception()      "
   ]
  },
  {
   "cell_type": "code",
   "execution_count": 63,
   "id": "11e832d1",
   "metadata": {},
   "outputs": [
    {
     "data": {
      "text/plain": [
       "['hey', 'How', 'are', 'you']"
      ]
     },
     "execution_count": 63,
     "metadata": {},
     "output_type": "execute_result"
    }
   ],
   "source": [
    "a = [\"hey\", \"How\", \"are\", \"you\"]\n",
    "itr = reversed(a)\n",
    "next(itr)\n",
    "next(itr)\n",
    "next(itr)\n",
    "next(itr)\n",
    "a"
   ]
  },
  {
   "cell_type": "code",
   "execution_count": 64,
   "id": "6a54fa5b",
   "metadata": {},
   "outputs": [
    {
     "name": "stdout",
     "output_type": "stream",
     "text": [
      "HBO\n",
      "CNN\n",
      "Disney\n",
      "ESPN\n"
     ]
    }
   ],
   "source": [
    "class RemoteControl():\n",
    "    def __init__(self):\n",
    "        self.channels = [\"HBO\", \"CNN\", \"Disney\", \"ESPN\"]\n",
    "        self.index = -1\n",
    "        \n",
    "    def __iter__(self):\n",
    "        return self\n",
    "    \n",
    "    def __next__(self):\n",
    "        self.index += 1\n",
    "        if self.index == len(self.channels):\n",
    "            raise StopIteration\n",
    "        return self.channels[self.index]\n",
    "    \n",
    "r = RemoteControl()\n",
    "itr = iter(r)\n",
    "print(next(itr))\n",
    "print(next(itr))\n",
    "print(next(itr))\n",
    "print(next(itr))"
   ]
  },
  {
   "cell_type": "code",
   "execution_count": 65,
   "id": "04c5229a",
   "metadata": {},
   "outputs": [
    {
     "name": "stdout",
     "output_type": "stream",
     "text": [
      "0\n",
      "1\n",
      "1\n",
      "2\n",
      "3\n",
      "5\n",
      "8\n",
      "13\n"
     ]
    }
   ],
   "source": [
    "def fib():\n",
    "    a, b = 0,1\n",
    "    while True:\n",
    "        yield a \n",
    "        a, b = b, a+b\n",
    "\n",
    "for f in fib():\n",
    "    if f > 13:\n",
    "        break\n",
    "    print(f)"
   ]
  },
  {
   "cell_type": "code",
   "execution_count": 66,
   "id": "95aea2c0",
   "metadata": {},
   "outputs": [
    {
     "data": {
      "text/plain": [
       "[2, 4, 6, 78]"
      ]
     },
     "execution_count": 66,
     "metadata": {},
     "output_type": "execute_result"
    }
   ],
   "source": [
    "num = [1,2,3,4,5,6,78]\n",
    "even = [i for i in num if i%2 ==0]\n",
    "even"
   ]
  },
  {
   "cell_type": "code",
   "execution_count": 67,
   "id": "9f13bab7",
   "metadata": {},
   "outputs": [
    {
     "name": "stdout",
     "output_type": "stream",
     "text": [
      "('mumbai', 'India')\n",
      "('New York', 'USA')\n",
      "('Paris', 'France')\n"
     ]
    },
    {
     "data": {
      "text/plain": [
       "{'mumbai': 'India', 'New York': 'USA', 'Paris': 'France'}"
      ]
     },
     "execution_count": 67,
     "metadata": {},
     "output_type": "execute_result"
    }
   ],
   "source": [
    "city = [\"mumbai\", \"New York\", \"Paris\"]\n",
    "country = [\"India\", \"USA\", \"France\"]\n",
    "\n",
    "z = zip(city, country)\n",
    "for i in z:\n",
    "    print(i)\n",
    "    \n",
    "d = {city:country for city, country in zip(city, country)}\n",
    "d"
   ]
  },
  {
   "cell_type": "code",
   "execution_count": 1,
   "id": "aa1147b9",
   "metadata": {},
   "outputs": [
    {
     "data": {
      "text/plain": [
       "set"
      ]
     },
     "execution_count": 1,
     "metadata": {},
     "output_type": "execute_result"
    }
   ],
   "source": [
    "basket = {\"orange\", \"apple\",\"mango\",\"apple\",\"orange\"}\n",
    "type(basket)"
   ]
  },
  {
   "cell_type": "code",
   "execution_count": 2,
   "id": "120d768e",
   "metadata": {},
   "outputs": [
    {
     "data": {
      "text/plain": [
       "{'apple', 'mango', 'orange'}"
      ]
     },
     "execution_count": 2,
     "metadata": {},
     "output_type": "execute_result"
    }
   ],
   "source": [
    "basket"
   ]
  },
  {
   "cell_type": "code",
   "execution_count": 3,
   "id": "77c826aa",
   "metadata": {},
   "outputs": [],
   "source": [
    "a = set()\n",
    "a.add(1)\n",
    "a.add(2)"
   ]
  },
  {
   "cell_type": "code",
   "execution_count": 4,
   "id": "fc04a96b",
   "metadata": {},
   "outputs": [
    {
     "data": {
      "text/plain": [
       "{1, 2}"
      ]
     },
     "execution_count": 4,
     "metadata": {},
     "output_type": "execute_result"
    }
   ],
   "source": [
    "a"
   ]
  },
  {
   "cell_type": "code",
   "execution_count": 5,
   "id": "45b66556",
   "metadata": {},
   "outputs": [
    {
     "data": {
      "text/plain": [
       "True"
      ]
     },
     "execution_count": 5,
     "metadata": {},
     "output_type": "execute_result"
    }
   ],
   "source": [
    "x = {\"a\",\"b\",\"c\"}\n",
    "\"a\" in x"
   ]
  },
  {
   "cell_type": "code",
   "execution_count": 7,
   "id": "ef60f337",
   "metadata": {},
   "outputs": [
    {
     "name": "stdout",
     "output_type": "stream",
     "text": [
      "b\n",
      "c\n",
      "a\n"
     ]
    }
   ],
   "source": [
    "for i in x:\n",
    "    print(i)"
   ]
  },
  {
   "cell_type": "code",
   "execution_count": 8,
   "id": "85e45905",
   "metadata": {},
   "outputs": [
    {
     "data": {
      "text/plain": [
       "{'a', 'b', 'c', 'v', 'w', 'z'}"
      ]
     },
     "execution_count": 8,
     "metadata": {},
     "output_type": "execute_result"
    }
   ],
   "source": [
    "y = {\"v\",\"w\",\"z\"}\n",
    "x|y"
   ]
  },
  {
   "cell_type": "code",
   "execution_count": 9,
   "id": "cffb9e43",
   "metadata": {},
   "outputs": [
    {
     "data": {
      "text/plain": [
       "set()"
      ]
     },
     "execution_count": 9,
     "metadata": {},
     "output_type": "execute_result"
    }
   ],
   "source": [
    "x & y"
   ]
  },
  {
   "cell_type": "code",
   "execution_count": 10,
   "id": "eddfdeea",
   "metadata": {},
   "outputs": [
    {
     "data": {
      "text/plain": [
       "{'a', 'b', 'c'}"
      ]
     },
     "execution_count": 10,
     "metadata": {},
     "output_type": "execute_result"
    }
   ],
   "source": [
    "x - y"
   ]
  },
  {
   "cell_type": "code",
   "execution_count": 12,
   "id": "aef14b8d",
   "metadata": {},
   "outputs": [
    {
     "name": "stderr",
     "output_type": "stream",
     "text": [
      "usage: ipykernel_launcher.py [-h]\n",
      "ipykernel_launcher.py: error: unrecognized arguments: -f C:\\Users\\13127\\AppData\\Roaming\\jupyter\\runtime\\kernel-417ce35b-345f-4689-b97b-db80c4e3139a.json\n"
     ]
    },
    {
     "ename": "SystemExit",
     "evalue": "2",
     "output_type": "error",
     "traceback": [
      "An exception has occurred, use %tb to see the full traceback.\n",
      "\u001b[1;31mSystemExit\u001b[0m\u001b[1;31m:\u001b[0m 2\n"
     ]
    },
    {
     "name": "stderr",
     "output_type": "stream",
     "text": [
      "C:\\Users\\13127\\anaconda3\\lib\\site-packages\\IPython\\core\\interactiveshell.py:3377: UserWarning: To exit: use 'exit', 'quit', or Ctrl-D.\n",
      "  warn(\"To exit: use 'exit', 'quit', or Ctrl-D.\", stacklevel=1)\n"
     ]
    }
   ],
   "source": [
    "import argparse\n",
    "if __name__ == \"__main__\":\n",
    "    parser = argparse.ArgumentParser()\n",
    "    args = parser.parse_args()"
   ]
  },
  {
   "cell_type": "code",
   "execution_count": 21,
   "id": "d40a783c",
   "metadata": {},
   "outputs": [
    {
     "name": "stdout",
     "output_type": "stream",
     "text": [
      "Calc square took 0.0 milliseconds\n",
      "[1, 4, 9, 16, 25]\n"
     ]
    }
   ],
   "source": [
    "import time\n",
    "\n",
    "def calc_square(numbers):\n",
    "    start = time.time()\n",
    "    result = []\n",
    "    for num in numbers:\n",
    "        result.append(num * num)\n",
    "    end = time.time()\n",
    "    print(\"Calc square took \" + str((end - start) * 1000) + \" milliseconds\")\n",
    "    return result\n",
    "\n",
    "array = [1,2,3,4,5]\n",
    "result_array = calc_square(array)  \n",
    "print(result_array)  "
   ]
  },
  {
   "cell_type": "code",
   "execution_count": 1,
   "id": "0fc8c391",
   "metadata": {},
   "outputs": [],
   "source": [
    "def time_it(func):\n",
    "    def wrapper(*args, **kwargs):\n",
    "        start = time.time()\n",
    "        result = func(*args,**kwargs)\n",
    "        end = time.time()\n",
    "        print(func.__name)"
   ]
  },
  {
   "cell_type": "code",
   "execution_count": 4,
   "id": "5f8ae3ca",
   "metadata": {},
   "outputs": [
    {
     "name": "stdout",
     "output_type": "stream",
     "text": [
      "The square is: \n",
      "1\n",
      "4\n",
      "9\n",
      "16\n"
     ]
    }
   ],
   "source": [
    "def square(lr):\n",
    "    print(\"The square is: \")\n",
    "    for num in lr:\n",
    "        print(num*num)\n",
    "\n",
    "lr = [1,2,3,4]       \n",
    "square(lr)"
   ]
  },
  {
   "cell_type": "code",
   "execution_count": 6,
   "id": "8bf3aa68",
   "metadata": {},
   "outputs": [
    {
     "name": "stdout",
     "output_type": "stream",
     "text": [
      "8\n",
      "27\n",
      "64\n",
      "125\n",
      "216\n",
      "216\n"
     ]
    }
   ],
   "source": [
    "def cube(lr):\n",
    "    for num in lr:\n",
    "        print(num * num*num)\n",
    "        \n",
    "lr = [2,3,4,5,6,6]\n",
    "cube(lr)"
   ]
  },
  {
   "cell_type": "code",
   "execution_count": 11,
   "id": "b252a9fe",
   "metadata": {},
   "outputs": [
    {
     "name": "stdout",
     "output_type": "stream",
     "text": [
      "The square is: \n",
      "4\n",
      "9\n",
      "16\n",
      "25\n",
      "36\n",
      "36\n",
      "8\n",
      "27\n",
      "64\n",
      "125\n",
      "216\n",
      "216\n"
     ]
    }
   ],
   "source": [
    "import threading\n",
    "\n",
    "t1 = threading.Thread(target=square, args=(lr,))\n",
    "t2 = threading.Thread(target=cube, args=(lr,))\n",
    "\n",
    "t1.start()\n",
    "t2.start()\n",
    "\n",
    "t1.join()\n",
    "t2.join()"
   ]
  },
  {
   "cell_type": "code",
   "execution_count": 8,
   "id": "bebed07c",
   "metadata": {},
   "outputs": [],
   "source": [
    "import time\n",
    "import queue\n",
    "import multiprocessing\n",
    "\n",
    "def square(arr,q):\n",
    "    for n in arr:\n",
    "        q.put(n*n)\n",
    "\n",
    "if __name__ == \"__main__\":\n",
    "    arr = [1,2,3,4,5]\n",
    "    q = multiprocessing.Queue()\n",
    "    p1 = multiprocessing.Process(target=square, args=(arr,q))\n",
    "    p1.start()\n",
    "    p1.join()\n",
    "    \n",
    "    while q.empty() is False:\n",
    "        print(q.get())"
   ]
  },
  {
   "cell_type": "code",
   "execution_count": 9,
   "id": "cd4a64e2",
   "metadata": {},
   "outputs": [
    {
     "name": "stdout",
     "output_type": "stream",
     "text": [
      "1\n",
      "4\n",
      "9\n",
      "16\n",
      "25\n"
     ]
    }
   ],
   "source": [
    "import queue\n",
    "import concurrent.futures\n",
    "\n",
    "def square(n, q):\n",
    "    q.put(n * n)\n",
    "\n",
    "if __name__ == \"__main__\":\n",
    "    arr = [1, 2, 3, 4, 5]\n",
    "    q = queue.Queue()\n",
    "\n",
    "    with concurrent.futures.ThreadPoolExecutor() as executor:\n",
    "        executor.map(square, arr, [q]*len(arr))\n",
    "\n",
    "    while not q.empty():\n",
    "        print(q.get())"
   ]
  },
  {
   "cell_type": "code",
   "execution_count": 16,
   "id": "43442fd2",
   "metadata": {},
   "outputs": [
    {
     "name": "stdout",
     "output_type": "stream",
     "text": [
      "200\n"
     ]
    }
   ],
   "source": [
    "import time\n",
    "import multiprocessing\n",
    "\n",
    "def deposit(balance,lock):\n",
    "    for n in range(100):\n",
    "        time.sleep(0.05)\n",
    "        lock.acquire()\n",
    "        balance.value = balance.value + 1\n",
    "        lock.release()\n",
    "        \n",
    "def withdraw(balance,lock):\n",
    "    for n in range(100):\n",
    "        time.sleep(0.01)\n",
    "        lock.acquire()\n",
    "        balance.value = balance.value - 1\n",
    "        lock.release()\n",
    "        \n",
    "        \n",
    "if __name__ == \"__main__\":\n",
    "    balance = multiprocessing.Value('i',200)\n",
    "    lock = multiprocessing.Lock()\n",
    "    d = multiprocessing.Process(target=deposit, args=(balance,lock))\n",
    "    w = multiprocessing.Process(target=withdraw, args=(balance,lock))\n",
    "    \n",
    "    d.start()\n",
    "    w.start()\n",
    "    \n",
    "    d.join()\n",
    "    w.join()\n",
    "    \n",
    "    print(balance.value)"
   ]
  },
  {
   "cell_type": "code",
   "execution_count": null,
   "id": "6a157f77",
   "metadata": {},
   "outputs": [],
   "source": [
    "from multiprocessing import Pool\n",
    "\n",
    "def f(n):\n",
    "    return n * n\n",
    "\n",
    "if __name__ == \"__main__\":\n",
    "    \n",
    "    arr = [1,2,3,4,5,6]\n",
    "    p = Pool()\n",
    "    result = p.map(f,arr)\n",
    "    print(result)"
   ]
  }
 ],
 "metadata": {
  "kernelspec": {
   "display_name": "Python 3 (ipykernel)",
   "language": "python",
   "name": "python3"
  },
  "language_info": {
   "codemirror_mode": {
    "name": "ipython",
    "version": 3
   },
   "file_extension": ".py",
   "mimetype": "text/x-python",
   "name": "python",
   "nbconvert_exporter": "python",
   "pygments_lexer": "ipython3",
   "version": "3.9.12"
  }
 },
 "nbformat": 4,
 "nbformat_minor": 5
}
